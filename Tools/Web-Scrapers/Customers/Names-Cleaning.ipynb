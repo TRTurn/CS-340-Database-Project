{
 "cells": [
  {
   "cell_type": "code",
   "execution_count": 5,
   "id": "convertible-department",
   "metadata": {},
   "outputs": [],
   "source": [
    "%config Completer.use_jedi = False"
   ]
  },
  {
   "cell_type": "code",
   "execution_count": 59,
   "id": "regional-vegetation",
   "metadata": {},
   "outputs": [],
   "source": [
    "import pandas as pd\n",
    "import numpy as np\n",
    "import mysql.connector\n",
    "import random"
   ]
  },
  {
   "cell_type": "code",
   "execution_count": 9,
   "id": "figured-auction",
   "metadata": {},
   "outputs": [],
   "source": [
    "first_name_df = pd.read_csv('First-Names.csv')"
   ]
  },
  {
   "cell_type": "code",
   "execution_count": 28,
   "id": "second-turner",
   "metadata": {},
   "outputs": [],
   "source": [
    "first_name_df.rename(columns ={'Mary':'First-Name'}, inplace=True)"
   ]
  },
  {
   "cell_type": "code",
   "execution_count": 29,
   "id": "friendly-accreditation",
   "metadata": {},
   "outputs": [],
   "source": [
    "womans_name_df = first_name_df['First-Name'].head(100)"
   ]
  },
  {
   "cell_type": "code",
   "execution_count": 34,
   "id": "specified-pacific",
   "metadata": {},
   "outputs": [],
   "source": [
    "mans_name_df = first_name_df[first_name_df['F'] == 'M']['First-Name'].head(100)"
   ]
  },
  {
   "cell_type": "code",
   "execution_count": 35,
   "id": "respiratory-belle",
   "metadata": {},
   "outputs": [],
   "source": [
    "df = womans_name_df.append(mans_name_df)"
   ]
  },
  {
   "cell_type": "code",
   "execution_count": 42,
   "id": "foster-occasions",
   "metadata": {},
   "outputs": [],
   "source": [
    "first_names = df.reset_index().drop('index', axis=1)"
   ]
  },
  {
   "cell_type": "code",
   "execution_count": 43,
   "id": "varying-intensity",
   "metadata": {},
   "outputs": [
    {
     "data": {
      "text/html": [
       "<div>\n",
       "<style scoped>\n",
       "    .dataframe tbody tr th:only-of-type {\n",
       "        vertical-align: middle;\n",
       "    }\n",
       "\n",
       "    .dataframe tbody tr th {\n",
       "        vertical-align: top;\n",
       "    }\n",
       "\n",
       "    .dataframe thead th {\n",
       "        text-align: right;\n",
       "    }\n",
       "</style>\n",
       "<table border=\"1\" class=\"dataframe\">\n",
       "  <thead>\n",
       "    <tr style=\"text-align: right;\">\n",
       "      <th></th>\n",
       "      <th>First-Name</th>\n",
       "    </tr>\n",
       "  </thead>\n",
       "  <tbody>\n",
       "    <tr>\n",
       "      <th>0</th>\n",
       "      <td>Helen</td>\n",
       "    </tr>\n",
       "    <tr>\n",
       "      <th>1</th>\n",
       "      <td>Dorothy</td>\n",
       "    </tr>\n",
       "    <tr>\n",
       "      <th>2</th>\n",
       "      <td>Margaret</td>\n",
       "    </tr>\n",
       "    <tr>\n",
       "      <th>3</th>\n",
       "      <td>Frances</td>\n",
       "    </tr>\n",
       "    <tr>\n",
       "      <th>4</th>\n",
       "      <td>Ruth</td>\n",
       "    </tr>\n",
       "    <tr>\n",
       "      <th>...</th>\n",
       "      <td>...</td>\n",
       "    </tr>\n",
       "    <tr>\n",
       "      <th>195</th>\n",
       "      <td>Jerry</td>\n",
       "    </tr>\n",
       "    <tr>\n",
       "      <th>196</th>\n",
       "      <td>Leslie</td>\n",
       "    </tr>\n",
       "    <tr>\n",
       "      <th>197</th>\n",
       "      <td>Martin</td>\n",
       "    </tr>\n",
       "    <tr>\n",
       "      <th>198</th>\n",
       "      <td>Maurice</td>\n",
       "    </tr>\n",
       "    <tr>\n",
       "      <th>199</th>\n",
       "      <td>Vincent</td>\n",
       "    </tr>\n",
       "  </tbody>\n",
       "</table>\n",
       "<p>200 rows × 1 columns</p>\n",
       "</div>"
      ],
      "text/plain": [
       "    First-Name\n",
       "0        Helen\n",
       "1      Dorothy\n",
       "2     Margaret\n",
       "3      Frances\n",
       "4         Ruth\n",
       "..         ...\n",
       "195      Jerry\n",
       "196     Leslie\n",
       "197     Martin\n",
       "198    Maurice\n",
       "199    Vincent\n",
       "\n",
       "[200 rows x 1 columns]"
      ]
     },
     "execution_count": 43,
     "metadata": {},
     "output_type": "execute_result"
    }
   ],
   "source": [
    "first_names"
   ]
  },
  {
   "cell_type": "code",
   "execution_count": 44,
   "id": "brutal-gender",
   "metadata": {},
   "outputs": [],
   "source": [
    "last_names = pd.read_csv('Last-Names.csv')"
   ]
  },
  {
   "cell_type": "code",
   "execution_count": 50,
   "id": "celtic-invention",
   "metadata": {},
   "outputs": [],
   "source": [
    "last_names = last_names['name'].apply(lambda x : str(x).title())"
   ]
  },
  {
   "cell_type": "code",
   "execution_count": 52,
   "id": "available-genealogy",
   "metadata": {},
   "outputs": [
    {
     "data": {
      "text/plain": [
       "0                   Smith\n",
       "1                 Johnson\n",
       "2                Williams\n",
       "3                   Brown\n",
       "4                   Jones\n",
       "               ...       \n",
       "162249          Dietzmann\n",
       "162250              Dokas\n",
       "162251             Donlea\n",
       "162252            Doriott\n",
       "162253    All Other Names\n",
       "Name: name, Length: 162254, dtype: object"
      ]
     },
     "execution_count": 52,
     "metadata": {},
     "output_type": "execute_result"
    }
   ],
   "source": [
    "last_names"
   ]
  },
  {
   "cell_type": "code",
   "execution_count": 100,
   "id": "specific-spelling",
   "metadata": {},
   "outputs": [],
   "source": [
    "cnx = mysql.connector.connect(user = 'root', password = '-', host = 'localhost', database='books_and_flicks')"
   ]
  },
  {
   "cell_type": "code",
   "execution_count": 101,
   "id": "effective-hierarchy",
   "metadata": {},
   "outputs": [],
   "source": [
    "add_customer = ('INSERT INTO Customers(customer_first_name, customer_last_name, email, phone, premium, username, password) VALUES (%s, %s, %s, %s, %s, %s, %s)')"
   ]
  },
  {
   "cell_type": "code",
   "execution_count": 102,
   "id": "greatest-preserve",
   "metadata": {},
   "outputs": [],
   "source": [
    "cursor = cnx.cursor()"
   ]
  },
  {
   "cell_type": "code",
   "execution_count": 103,
   "id": "descending-gospel",
   "metadata": {},
   "outputs": [],
   "source": [
    "for i in range(300):\n",
    "    first_name = first_names.loc[random.randint(0,199)][0]\n",
    "    last_name = last_names.loc[random.randint(0,162252)]\n",
    "    email = last_name + first_name + '@email.com'\n",
    "    phone = '(555) ' + str(random.randint(111,999)) + '-' + str(random.randint(1111, 9999))\n",
    "    premium_random = random.randint(0,5)\n",
    "    premium = False if premium_random == 0 else True\n",
    "    username = last_name + '.' + first_name + '.' + str(random.randint(0,99))\n",
    "    password = 'password'\n",
    "    download_id = \n",
    "    customer_data = (first_name, last_name, email, phone, premium, username, password)\n",
    "    cursor.execute(add_customer, customer_data)\n",
    "    \n",
    "   \n",
    "cnx.commit()\n",
    "cursor.close()\n",
    "cnx.close()"
   ]
  },
  {
   "cell_type": "code",
   "execution_count": 98,
   "id": "angry-baptist",
   "metadata": {},
   "outputs": [],
   "source": [
    "cnx.close()"
   ]
  },
  {
   "cell_type": "code",
   "execution_count": 99,
   "id": "failing-vulnerability",
   "metadata": {},
   "outputs": [
    {
     "data": {
      "text/plain": [
       "True"
      ]
     },
     "execution_count": 99,
     "metadata": {},
     "output_type": "execute_result"
    }
   ],
   "source": [
    "cursor.close()"
   ]
  },
  {
   "cell_type": "markdown",
   "id": "senior-brick",
   "metadata": {},
   "source": [
    "Below is how to instill a downloads_id for every customer"
   ]
  },
  {
   "cell_type": "code",
   "execution_count": null,
   "id": "valued-aruba",
   "metadata": {},
   "outputs": [],
   "source": [
    " customer_id_query = ('SELECT customer_id FROM Customers Where username = %s')\n",
    "    cursor.execute(customer_id_query, (username))\n",
    "    customer_id = cursor[0]\n",
    "    add_downloads = ('INSERT INTO Wishlists(customer_id, wishlist_name) VALUES (%s, %s)')\n",
    "    downloads_data = (customer_id, 'Downloads')\n",
    "    download_id = (f'SELECT wishlist_id FROM Wishlists WHERE customer_id ={customer_id}')\n",
    "    customer_update = (f'UPDATE Customers SET download_id = {download_id} WHERE customer_id = {customer_id}')"
   ]
  }
 ],
 "metadata": {
  "kernelspec": {
   "display_name": "Python 3",
   "language": "python",
   "name": "python3"
  },
  "language_info": {
   "codemirror_mode": {
    "name": "ipython",
    "version": 3
   },
   "file_extension": ".py",
   "mimetype": "text/x-python",
   "name": "python",
   "nbconvert_exporter": "python",
   "pygments_lexer": "ipython3",
   "version": "3.7.6"
  }
 },
 "nbformat": 4,
 "nbformat_minor": 5
}
