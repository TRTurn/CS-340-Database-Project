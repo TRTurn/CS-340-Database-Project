{
 "cells": [
  {
   "cell_type": "code",
   "execution_count": 1,
   "id": "prospective-darwin",
   "metadata": {},
   "outputs": [],
   "source": [
    "config Completer.use_jedi = False"
   ]
  },
  {
   "cell_type": "code",
   "execution_count": 2,
   "id": "hired-opposition",
   "metadata": {},
   "outputs": [],
   "source": [
    "import pandas as pd\n",
    "import numpy as np\n",
    "import mysql.connector"
   ]
  },
  {
   "cell_type": "code",
   "execution_count": 5,
   "id": "approved-terrain",
   "metadata": {},
   "outputs": [],
   "source": [
    "# Import Data\n",
    "df = pd.read_csv('Goodreads-csv-to-clean.csv')"
   ]
  },
  {
   "cell_type": "code",
   "execution_count": 6,
   "id": "durable-seeker",
   "metadata": {},
   "outputs": [],
   "source": [
    "# Rename Columns\n",
    "df.rename(columns={'book_authors': 'Author', 'book_desc': 'Description', 'book_isbn': 'isbn', 'book_pages':'Pages', 'genres':'Genre', 'book_title': 'Title'}, inplace=True)"
   ]
  },
  {
   "cell_type": "code",
   "execution_count": 7,
   "id": "exclusive-pacific",
   "metadata": {},
   "outputs": [],
   "source": [
    "# Drop unnecessary columns\n",
    "df.drop('book_edition',axis=1,inplace=True)"
   ]
  },
  {
   "cell_type": "code",
   "execution_count": 8,
   "id": "atomic-sapphire",
   "metadata": {},
   "outputs": [],
   "source": [
    "# Drop Na Value Columns\n",
    "df.dropna(axis=1, thresh=5, inplace=True)"
   ]
  },
  {
   "cell_type": "code",
   "execution_count": 9,
   "id": "reflected-murray",
   "metadata": {},
   "outputs": [],
   "source": [
    "# Remove indices with at least one null value\n",
    "df.dropna(inplace = True)"
   ]
  },
  {
   "cell_type": "code",
   "execution_count": 10,
   "id": "square-representation",
   "metadata": {},
   "outputs": [],
   "source": [
    "# Individual Authors?\n",
    "df['Author'] = df['Author'].apply(lambda x:x.replace('|', ', '))"
   ]
  },
  {
   "cell_type": "code",
   "execution_count": 11,
   "id": "indoor-applicant",
   "metadata": {},
   "outputs": [],
   "source": [
    "# Limit to One Genre\n",
    "df['Genre'] = df['Genre'].apply(lambda x:x.split('|')[0])"
   ]
  },
  {
   "cell_type": "code",
   "execution_count": 12,
   "id": "looking-specification",
   "metadata": {},
   "outputs": [],
   "source": [
    "df['Pages'] = df['Pages'].apply(lambda x: x[:-5].strip())"
   ]
  },
  {
   "cell_type": "code",
   "execution_count": 13,
   "id": "anticipated-rebecca",
   "metadata": {},
   "outputs": [],
   "source": [
    "df = df[['Title', 'Author', 'Genre', 'Pages', 'Description']]"
   ]
  },
  {
   "cell_type": "code",
   "execution_count": 14,
   "id": "auburn-contrast",
   "metadata": {},
   "outputs": [],
   "source": [
    "df = df.head(300)"
   ]
  },
  {
   "cell_type": "code",
   "execution_count": 15,
   "id": "interpreted-richards",
   "metadata": {},
   "outputs": [],
   "source": [
    "df.drop_duplicates(subset=['Title'], inplace=True)"
   ]
  },
  {
   "cell_type": "code",
   "execution_count": 16,
   "id": "industrial-element",
   "metadata": {},
   "outputs": [
    {
     "data": {
      "text/html": [
       "<div>\n",
       "<style scoped>\n",
       "    .dataframe tbody tr th:only-of-type {\n",
       "        vertical-align: middle;\n",
       "    }\n",
       "\n",
       "    .dataframe tbody tr th {\n",
       "        vertical-align: top;\n",
       "    }\n",
       "\n",
       "    .dataframe thead th {\n",
       "        text-align: right;\n",
       "    }\n",
       "</style>\n",
       "<table border=\"1\" class=\"dataframe\">\n",
       "  <thead>\n",
       "    <tr style=\"text-align: right;\">\n",
       "      <th></th>\n",
       "      <th>Title</th>\n",
       "      <th>Author</th>\n",
       "      <th>Genre</th>\n",
       "      <th>Pages</th>\n",
       "      <th>Description</th>\n",
       "    </tr>\n",
       "  </thead>\n",
       "  <tbody>\n",
       "    <tr>\n",
       "      <th>0</th>\n",
       "      <td>The Hunger Games</td>\n",
       "      <td>Suzanne Collins</td>\n",
       "      <td>Young Adult</td>\n",
       "      <td>374</td>\n",
       "      <td>Winning will make you famous. Losing means cer...</td>\n",
       "    </tr>\n",
       "    <tr>\n",
       "      <th>1</th>\n",
       "      <td>Harry Potter and the Order of the Phoenix</td>\n",
       "      <td>J.K. Rowling, Mary GrandPré</td>\n",
       "      <td>Fantasy</td>\n",
       "      <td>870</td>\n",
       "      <td>There is a door at the end of a silent corrido...</td>\n",
       "    </tr>\n",
       "    <tr>\n",
       "      <th>2</th>\n",
       "      <td>To Kill a Mockingbird</td>\n",
       "      <td>Harper Lee</td>\n",
       "      <td>Classics</td>\n",
       "      <td>324</td>\n",
       "      <td>The unforgettable novel of a childhood in a sl...</td>\n",
       "    </tr>\n",
       "    <tr>\n",
       "      <th>3</th>\n",
       "      <td>Pride and Prejudice</td>\n",
       "      <td>Jane Austen, Anna Quindlen, Mrs. Oliphant, Geo...</td>\n",
       "      <td>Classics</td>\n",
       "      <td>279</td>\n",
       "      <td>«È cosa ormai risaputa che a uno scapolo in po...</td>\n",
       "    </tr>\n",
       "    <tr>\n",
       "      <th>4</th>\n",
       "      <td>Twilight</td>\n",
       "      <td>Stephenie Meyer</td>\n",
       "      <td>Young Adult</td>\n",
       "      <td>498</td>\n",
       "      <td>About three things I was absolutely positive.F...</td>\n",
       "    </tr>\n",
       "    <tr>\n",
       "      <th>...</th>\n",
       "      <td>...</td>\n",
       "      <td>...</td>\n",
       "      <td>...</td>\n",
       "      <td>...</td>\n",
       "      <td>...</td>\n",
       "    </tr>\n",
       "    <tr>\n",
       "      <th>312</th>\n",
       "      <td>The Prince of Tides</td>\n",
       "      <td>Pat Conroy</td>\n",
       "      <td>Fiction</td>\n",
       "      <td>679</td>\n",
       "      <td>PAT CONROY has created a huge, brash thunderst...</td>\n",
       "    </tr>\n",
       "    <tr>\n",
       "      <th>313</th>\n",
       "      <td>The Monster at the End of this Book</td>\n",
       "      <td>Jon Stone, Michael J. Smollin</td>\n",
       "      <td>Childrens</td>\n",
       "      <td>32</td>\n",
       "      <td>Many adults name this book as their favorite L...</td>\n",
       "    </tr>\n",
       "    <tr>\n",
       "      <th>314</th>\n",
       "      <td>Dead Until Dark</td>\n",
       "      <td>Charlaine Harris</td>\n",
       "      <td>Fantasy</td>\n",
       "      <td>292</td>\n",
       "      <td>Sookie Stackhouse is just a small-time cocktai...</td>\n",
       "    </tr>\n",
       "    <tr>\n",
       "      <th>315</th>\n",
       "      <td>Fried Green Tomatoes at the Whistle Stop Cafe</td>\n",
       "      <td>Fannie Flagg</td>\n",
       "      <td>Fiction</td>\n",
       "      <td>416</td>\n",
       "      <td>It's first the story of two women in the 1980s...</td>\n",
       "    </tr>\n",
       "    <tr>\n",
       "      <th>316</th>\n",
       "      <td>Fifty Shades Darker</td>\n",
       "      <td>E.L. James</td>\n",
       "      <td>Romance</td>\n",
       "      <td>532</td>\n",
       "      <td>Daunted by the singular sexual tastes and dark...</td>\n",
       "    </tr>\n",
       "  </tbody>\n",
       "</table>\n",
       "<p>295 rows × 5 columns</p>\n",
       "</div>"
      ],
      "text/plain": [
       "                                             Title  \\\n",
       "0                                 The Hunger Games   \n",
       "1        Harry Potter and the Order of the Phoenix   \n",
       "2                            To Kill a Mockingbird   \n",
       "3                              Pride and Prejudice   \n",
       "4                                         Twilight   \n",
       "..                                             ...   \n",
       "312                            The Prince of Tides   \n",
       "313            The Monster at the End of this Book   \n",
       "314                                Dead Until Dark   \n",
       "315  Fried Green Tomatoes at the Whistle Stop Cafe   \n",
       "316                            Fifty Shades Darker   \n",
       "\n",
       "                                                Author        Genre Pages  \\\n",
       "0                                      Suzanne Collins  Young Adult   374   \n",
       "1                          J.K. Rowling, Mary GrandPré      Fantasy   870   \n",
       "2                                           Harper Lee     Classics   324   \n",
       "3    Jane Austen, Anna Quindlen, Mrs. Oliphant, Geo...     Classics   279   \n",
       "4                                      Stephenie Meyer  Young Adult   498   \n",
       "..                                                 ...          ...   ...   \n",
       "312                                         Pat Conroy      Fiction   679   \n",
       "313                      Jon Stone, Michael J. Smollin    Childrens    32   \n",
       "314                                   Charlaine Harris      Fantasy   292   \n",
       "315                                       Fannie Flagg      Fiction   416   \n",
       "316                                         E.L. James      Romance   532   \n",
       "\n",
       "                                           Description  \n",
       "0    Winning will make you famous. Losing means cer...  \n",
       "1    There is a door at the end of a silent corrido...  \n",
       "2    The unforgettable novel of a childhood in a sl...  \n",
       "3    «È cosa ormai risaputa che a uno scapolo in po...  \n",
       "4    About three things I was absolutely positive.F...  \n",
       "..                                                 ...  \n",
       "312  PAT CONROY has created a huge, brash thunderst...  \n",
       "313  Many adults name this book as their favorite L...  \n",
       "314  Sookie Stackhouse is just a small-time cocktai...  \n",
       "315  It's first the story of two women in the 1980s...  \n",
       "316  Daunted by the singular sexual tastes and dark...  \n",
       "\n",
       "[295 rows x 5 columns]"
      ]
     },
     "execution_count": 16,
     "metadata": {},
     "output_type": "execute_result"
    }
   ],
   "source": [
    "df"
   ]
  },
  {
   "cell_type": "code",
   "execution_count": 17,
   "id": "unexpected-fellowship",
   "metadata": {},
   "outputs": [],
   "source": [
    "# Connect to SQL Server\n",
    "cnx = mysql.connector.connect(user = 'turnbaut', password = 'L3m.nade1', host = '35.226.213.27', database='books_and_flicks')"
   ]
  },
  {
   "cell_type": "code",
   "execution_count": 18,
   "id": "sustainable-vietnam",
   "metadata": {},
   "outputs": [],
   "source": [
    "# Create cursor\n",
    "cursor = cnx.cursor()"
   ]
  },
  {
   "cell_type": "code",
   "execution_count": 19,
   "id": "superb-analysis",
   "metadata": {},
   "outputs": [],
   "source": [
    "# Add Query\n",
    "add_book = ('INSERT INTO Books(title, author, genre, page_count, description) VALUES (%s, %s, %s, %s, %s)')"
   ]
  },
  {
   "cell_type": "code",
   "execution_count": 20,
   "id": "dimensional-tiffany",
   "metadata": {},
   "outputs": [
    {
     "ename": "ProgrammingError",
     "evalue": "1146 (42S02): Table 'books_and_flicks.Books' doesn't exist",
     "output_type": "error",
     "traceback": [
      "\u001b[1;31m---------------------------------------------------------------------------\u001b[0m",
      "\u001b[1;31mMySQLInterfaceError\u001b[0m                       Traceback (most recent call last)",
      "\u001b[1;32m~\\anaconda3\\lib\\site-packages\\mysql\\connector\\connection_cext.py\u001b[0m in \u001b[0;36mcmd_query\u001b[1;34m(self, query, raw, buffered, raw_as_string)\u001b[0m\n\u001b[0;32m    508\u001b[0m                                \u001b[0mraw\u001b[0m\u001b[1;33m=\u001b[0m\u001b[0mraw\u001b[0m\u001b[1;33m,\u001b[0m \u001b[0mbuffered\u001b[0m\u001b[1;33m=\u001b[0m\u001b[0mbuffered\u001b[0m\u001b[1;33m,\u001b[0m\u001b[1;33m\u001b[0m\u001b[1;33m\u001b[0m\u001b[0m\n\u001b[1;32m--> 509\u001b[1;33m                                raw_as_string=raw_as_string)\n\u001b[0m\u001b[0;32m    510\u001b[0m         \u001b[1;32mexcept\u001b[0m \u001b[0mMySQLInterfaceError\u001b[0m \u001b[1;32mas\u001b[0m \u001b[0mexc\u001b[0m\u001b[1;33m:\u001b[0m\u001b[1;33m\u001b[0m\u001b[1;33m\u001b[0m\u001b[0m\n",
      "\u001b[1;31mMySQLInterfaceError\u001b[0m: Table 'books_and_flicks.Books' doesn't exist",
      "\nDuring handling of the above exception, another exception occurred:\n",
      "\u001b[1;31mProgrammingError\u001b[0m                          Traceback (most recent call last)",
      "\u001b[1;32m<ipython-input-20-430fa3d77c47>\u001b[0m in \u001b[0;36m<module>\u001b[1;34m\u001b[0m\n\u001b[0;32m      9\u001b[0m \u001b[1;33m\u001b[0m\u001b[0m\n\u001b[0;32m     10\u001b[0m     \u001b[0mbook_data\u001b[0m \u001b[1;33m=\u001b[0m \u001b[1;33m(\u001b[0m\u001b[0mtitle\u001b[0m\u001b[1;33m,\u001b[0m \u001b[0mAuthor\u001b[0m\u001b[1;33m,\u001b[0m \u001b[0mGenre\u001b[0m\u001b[1;33m,\u001b[0m \u001b[0mPages\u001b[0m\u001b[1;33m,\u001b[0m \u001b[0mDescription\u001b[0m\u001b[1;33m)\u001b[0m\u001b[1;33m\u001b[0m\u001b[1;33m\u001b[0m\u001b[0m\n\u001b[1;32m---> 11\u001b[1;33m     \u001b[0mcursor\u001b[0m\u001b[1;33m.\u001b[0m\u001b[0mexecute\u001b[0m\u001b[1;33m(\u001b[0m\u001b[0madd_book\u001b[0m\u001b[1;33m,\u001b[0m \u001b[0mbook_data\u001b[0m\u001b[1;33m)\u001b[0m\u001b[1;33m\u001b[0m\u001b[1;33m\u001b[0m\u001b[0m\n\u001b[0m\u001b[0;32m     12\u001b[0m \u001b[0mcnx\u001b[0m\u001b[1;33m.\u001b[0m\u001b[0mcommit\u001b[0m\u001b[1;33m(\u001b[0m\u001b[1;33m)\u001b[0m\u001b[1;33m\u001b[0m\u001b[1;33m\u001b[0m\u001b[0m\n\u001b[0;32m     13\u001b[0m \u001b[0mcursor\u001b[0m\u001b[1;33m.\u001b[0m\u001b[0mclose\u001b[0m\u001b[1;33m(\u001b[0m\u001b[1;33m)\u001b[0m\u001b[1;33m\u001b[0m\u001b[1;33m\u001b[0m\u001b[0m\n",
      "\u001b[1;32m~\\anaconda3\\lib\\site-packages\\mysql\\connector\\cursor_cext.py\u001b[0m in \u001b[0;36mexecute\u001b[1;34m(self, operation, params, multi)\u001b[0m\n\u001b[0;32m    274\u001b[0m             result = self._cnx.cmd_query(stmt, raw=self._raw,\n\u001b[0;32m    275\u001b[0m                                          \u001b[0mbuffered\u001b[0m\u001b[1;33m=\u001b[0m\u001b[0mself\u001b[0m\u001b[1;33m.\u001b[0m\u001b[0m_buffered\u001b[0m\u001b[1;33m,\u001b[0m\u001b[1;33m\u001b[0m\u001b[1;33m\u001b[0m\u001b[0m\n\u001b[1;32m--> 276\u001b[1;33m                                          raw_as_string=self._raw_as_string)\n\u001b[0m\u001b[0;32m    277\u001b[0m         \u001b[1;32mexcept\u001b[0m \u001b[0mMySQLInterfaceError\u001b[0m \u001b[1;32mas\u001b[0m \u001b[0mexc\u001b[0m\u001b[1;33m:\u001b[0m\u001b[1;33m\u001b[0m\u001b[1;33m\u001b[0m\u001b[0m\n\u001b[0;32m    278\u001b[0m             raise errors.get_mysql_exception(msg=exc.msg, errno=exc.errno,\n",
      "\u001b[1;32m~\\anaconda3\\lib\\site-packages\\mysql\\connector\\connection_cext.py\u001b[0m in \u001b[0;36mcmd_query\u001b[1;34m(self, query, raw, buffered, raw_as_string)\u001b[0m\n\u001b[0;32m    510\u001b[0m         \u001b[1;32mexcept\u001b[0m \u001b[0mMySQLInterfaceError\u001b[0m \u001b[1;32mas\u001b[0m \u001b[0mexc\u001b[0m\u001b[1;33m:\u001b[0m\u001b[1;33m\u001b[0m\u001b[1;33m\u001b[0m\u001b[0m\n\u001b[0;32m    511\u001b[0m             raise errors.get_mysql_exception(exc.errno, msg=exc.msg,\n\u001b[1;32m--> 512\u001b[1;33m                                              sqlstate=exc.sqlstate)\n\u001b[0m\u001b[0;32m    513\u001b[0m         \u001b[1;32mexcept\u001b[0m \u001b[0mAttributeError\u001b[0m\u001b[1;33m:\u001b[0m\u001b[1;33m\u001b[0m\u001b[1;33m\u001b[0m\u001b[0m\n\u001b[0;32m    514\u001b[0m             \u001b[1;32mif\u001b[0m \u001b[0mself\u001b[0m\u001b[1;33m.\u001b[0m\u001b[0m_unix_socket\u001b[0m\u001b[1;33m:\u001b[0m\u001b[1;33m\u001b[0m\u001b[1;33m\u001b[0m\u001b[0m\n",
      "\u001b[1;31mProgrammingError\u001b[0m: 1146 (42S02): Table 'books_and_flicks.Books' doesn't exist"
     ]
    }
   ],
   "source": [
    "# Insert Data to SQL Server\n",
    "for index, row in df.iterrows():\n",
    "    book = row\n",
    "    title = row[0]\n",
    "    Author = row[1]\n",
    "    Genre = row[2]\n",
    "    Pages = row[3]\n",
    "    Description = row[4]\n",
    "    \n",
    "    book_data = (title, Author, Genre, Pages, Description)\n",
    "    cursor.execute(add_book, book_data)\n",
    "cnx.commit()\n",
    "cursor.close()\n",
    "cnx.close()"
   ]
  },
  {
   "cell_type": "code",
   "execution_count": 138,
   "id": "divine-power",
   "metadata": {},
   "outputs": [],
   "source": [
    "for index, row in df.iterrows():\n",
    "    book = row\n",
    "    title = row[0]\n",
    "    Author = row[1]\n",
    "    Genre = row[2]\n",
    "    Pages = int(row[3])\n",
    "    Description = row[4]\n",
    "\n",
    "\n"
   ]
  },
  {
   "cell_type": "code",
   "execution_count": 132,
   "id": "moving-outreach",
   "metadata": {},
   "outputs": [
    {
     "data": {
      "text/plain": [
       "'9.78E+12'"
      ]
     },
     "execution_count": 132,
     "metadata": {},
     "output_type": "execute_result"
    }
   ],
   "source": []
  },
  {
   "cell_type": "code",
   "execution_count": 38,
   "id": "guilty-clothing",
   "metadata": {},
   "outputs": [],
   "source": [
    "cursor.close()\n",
    "cnx.close()"
   ]
  },
  {
   "cell_type": "code",
   "execution_count": null,
   "id": "transparent-consultancy",
   "metadata": {},
   "outputs": [],
   "source": []
  }
 ],
 "metadata": {
  "kernelspec": {
   "display_name": "Python 3",
   "language": "python",
   "name": "python3"
  },
  "language_info": {
   "codemirror_mode": {
    "name": "ipython",
    "version": 3
   },
   "file_extension": ".py",
   "mimetype": "text/x-python",
   "name": "python",
   "nbconvert_exporter": "python",
   "pygments_lexer": "ipython3",
   "version": "3.7.6"
  }
 },
 "nbformat": 4,
 "nbformat_minor": 5
}
