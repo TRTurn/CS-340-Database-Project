{
 "cells": [
  {
   "cell_type": "code",
   "execution_count": 188,
   "metadata": {},
   "outputs": [],
   "source": [
    "import pandas as pd\n",
    "import mysql.connector"
   ]
  },
  {
   "cell_type": "code",
   "execution_count": 304,
   "metadata": {},
   "outputs": [],
   "source": [
    "# Import Data\n",
    "df = pd.read_csv('IMDB-Top-250-Cleaned.csv')"
   ]
  },
  {
   "cell_type": "code",
   "execution_count": 305,
   "metadata": {},
   "outputs": [],
   "source": [
    "# Limit To One Genre\n",
    "df['Genre'] = df['Genre'].apply(lambda x:x.split(',')[0])"
   ]
  },
  {
   "cell_type": "code",
   "execution_count": 310,
   "metadata": {},
   "outputs": [],
   "source": [
    "# Drop NaN columns\n",
    "df.dropna(axis=1, inplace=True)"
   ]
  },
  {
   "cell_type": "code",
   "execution_count": 311,
   "metadata": {},
   "outputs": [],
   "source": [
    "# Get rid of the minutes for runtime\n",
    "df['Runtime'] = df['Runtime'].apply(lambda x: x[:-3].strip())"
   ]
  },
  {
   "cell_type": "code",
   "execution_count": 312,
   "metadata": {},
   "outputs": [],
   "source": [
    "# Convert Runtime to Integers\n",
    "df['Runtime']= df['Runtime'].apply(lambda x: int(x))"
   ]
  },
  {
   "cell_type": "code",
   "execution_count": 313,
   "metadata": {},
   "outputs": [],
   "source": [
    "# Replace Default Index to Titles\n",
    "df.set_index('Title',inplace=True)"
   ]
  },
  {
   "cell_type": "code",
   "execution_count": 314,
   "metadata": {},
   "outputs": [],
   "source": [
    "# Remove Poster Columns\n",
    "df = df.drop('Poster', axis=1)"
   ]
  },
  {
   "cell_type": "code",
   "execution_count": 315,
   "metadata": {},
   "outputs": [],
   "source": [
    "df = df.drop('Released', axis = 1)"
   ]
  },
  {
   "cell_type": "code",
   "execution_count": 316,
   "metadata": {},
   "outputs": [],
   "source": [
    "df = df[['Director', 'Rated','Actors', 'Genre','Runtime','Year', 'Country','Description']]"
   ]
  },
  {
   "cell_type": "code",
   "execution_count": 317,
   "metadata": {},
   "outputs": [],
   "source": [
    "df['Year'] = df['Year'].apply(lambda x: int(x))"
   ]
  },
  {
   "cell_type": "code",
   "execution_count": 318,
   "metadata": {},
   "outputs": [],
   "source": [
    "df.reset_index(inplace=True)"
   ]
  },
  {
   "cell_type": "code",
   "execution_count": 319,
   "metadata": {},
   "outputs": [],
   "source": [
    "# Connect to SQL Server\n",
    "cnx = mysql.connector.connect(user = 'root', password = 'L3m.nade1H3lix', host = 'localhost', database='book_and_flicks')"
   ]
  },
  {
   "cell_type": "code",
   "execution_count": 320,
   "metadata": {},
   "outputs": [],
   "source": [
    "# Add Query\n",
    "add_movie = ('INSERT INTO Movies(movie_title, director, rated, actor, genre, run_time, year, country, description) VALUES (%s, %s, %s, %s, %s, %s, %s, %s, %s)')"
   ]
  },
  {
   "cell_type": "code",
   "execution_count": 321,
   "metadata": {},
   "outputs": [],
   "source": [
    "# Create cursor\n",
    "cursor = cnx.cursor()"
   ]
  },
  {
   "cell_type": "code",
   "execution_count": 322,
   "metadata": {},
   "outputs": [],
   "source": [
    "# Insert Data to SQL Server\n",
    "for index, row in df.iterrows():\n",
    "    movie = row\n",
    "    title = row[0]\n",
    "    director = row[1]\n",
    "    rated = row[2]\n",
    "    actors = row[3]\n",
    "    genre = row[4]\n",
    "    runtime = row[5]\n",
    "    year = row[6]\n",
    "    country = row[7]\n",
    "    description = row[8]\n",
    "    \n",
    "    movie_data = (title, director, rated, actors, genre, runtime, year, country, description)\n",
    "    cursor.execute(add_movie, movie_data)\n",
    "cnx.commit()\n",
    "cursor.close()\n",
    "cnx.close()"
   ]
  },
  {
   "cell_type": "code",
   "execution_count": null,
   "metadata": {},
   "outputs": [],
   "source": [
    "# Extra Code Prior to realizing there was already a year column\n",
    "# Fill NaN values\n",
    "df['Released']= df['Released'].fillna('Not Available')\n",
    "\n",
    "# Released just year\n",
    "df['Released']=df['Released'].apply(lambda x: x[-2:])\n",
    "\n",
    "# Re-replace not available\n",
    "df['Released'] = df['Released'].replace('le', 'Not Available')\n",
    "\n",
    "# Update full years\n",
    "df['Released'] = df['Released'].apply(lambda x: x if x == 'Not Available' else '19'+ x if int(x) > 20 else '20' + x)"
   ]
  }
 ],
 "metadata": {
  "kernelspec": {
   "display_name": "Python 3",
   "language": "python",
   "name": "python3"
  },
  "language_info": {
   "codemirror_mode": {
    "name": "ipython",
    "version": 3
   },
   "file_extension": ".py",
   "mimetype": "text/x-python",
   "name": "python",
   "nbconvert_exporter": "python",
   "pygments_lexer": "ipython3",
   "version": "3.7.6"
  }
 },
 "nbformat": 4,
 "nbformat_minor": 4
}
