{
 "cells": [
  {
   "cell_type": "code",
   "execution_count": 1,
   "id": "technical-suffering",
   "metadata": {},
   "outputs": [],
   "source": [
    "import pandas as pd\n",
    "import mysql.connector"
   ]
  },
  {
   "cell_type": "code",
   "execution_count": 111,
   "id": "passive-pathology",
   "metadata": {},
   "outputs": [],
   "source": [
    "# Import Data\n",
    "df = pd.read_csv('Goodreads-csv-to-clean.csv')"
   ]
  },
  {
   "cell_type": "code",
   "execution_count": 112,
   "id": "acquired-longer",
   "metadata": {},
   "outputs": [],
   "source": [
    "# Rename Columns\n",
    "df.rename(columns={'book_authors': 'Author', 'book_desc': 'Description', 'book_isbn': 'isbn', 'book_pages':'Pages', 'genres':'Genre', 'book_title': 'Title'}, inplace=True)"
   ]
  },
  {
   "cell_type": "code",
   "execution_count": 113,
   "id": "enclosed-andrew",
   "metadata": {},
   "outputs": [],
   "source": [
    "# Drop unnecessary columns\n",
    "df.drop('book_edition',axis=1,inplace=True)"
   ]
  },
  {
   "cell_type": "code",
   "execution_count": 114,
   "id": "rubber-breed",
   "metadata": {},
   "outputs": [],
   "source": [
    "# Drop Na Value Columns\n",
    "df.dropna(axis=1, thresh=5, inplace=True)"
   ]
  },
  {
   "cell_type": "code",
   "execution_count": 115,
   "id": "related-corner",
   "metadata": {},
   "outputs": [],
   "source": [
    "# Remove indices with at least one null value\n",
    "df.dropna(inplace = True)"
   ]
  },
  {
   "cell_type": "code",
   "execution_count": 116,
   "id": "printable-annex",
   "metadata": {},
   "outputs": [],
   "source": [
    "# Individual Authors?\n",
    "df['Author'] = df['Author'].apply(lambda x:x.replace('|', ', '))"
   ]
  },
  {
   "cell_type": "code",
   "execution_count": 117,
   "id": "wanted-publisher",
   "metadata": {},
   "outputs": [],
   "source": [
    "# Limit to One Genre\n",
    "df['Genre'] = df['Genre'].apply(lambda x:x.split('|')[0])"
   ]
  },
  {
   "cell_type": "code",
   "execution_count": 118,
   "id": "academic-collectible",
   "metadata": {},
   "outputs": [],
   "source": [
    "df['Pages'] = df['Pages'].apply(lambda x: x[:-5].strip())"
   ]
  },
  {
   "cell_type": "code",
   "execution_count": 119,
   "id": "fitted-transsexual",
   "metadata": {},
   "outputs": [],
   "source": [
    "df = df[['Title', 'Author', 'Genre', 'Pages', 'Description', 'isbn']]"
   ]
  },
  {
   "cell_type": "code",
   "execution_count": 121,
   "id": "creative-cemetery",
   "metadata": {},
   "outputs": [],
   "source": [
    "df = df.head(300)"
   ]
  },
  {
   "cell_type": "code",
   "execution_count": 122,
   "id": "danish-quick",
   "metadata": {},
   "outputs": [
    {
     "data": {
      "text/html": [
       "<div>\n",
       "<style scoped>\n",
       "    .dataframe tbody tr th:only-of-type {\n",
       "        vertical-align: middle;\n",
       "    }\n",
       "\n",
       "    .dataframe tbody tr th {\n",
       "        vertical-align: top;\n",
       "    }\n",
       "\n",
       "    .dataframe thead th {\n",
       "        text-align: right;\n",
       "    }\n",
       "</style>\n",
       "<table border=\"1\" class=\"dataframe\">\n",
       "  <thead>\n",
       "    <tr style=\"text-align: right;\">\n",
       "      <th></th>\n",
       "      <th>Title</th>\n",
       "      <th>Author</th>\n",
       "      <th>Genre</th>\n",
       "      <th>Pages</th>\n",
       "      <th>Description</th>\n",
       "      <th>isbn</th>\n",
       "    </tr>\n",
       "  </thead>\n",
       "  <tbody>\n",
       "    <tr>\n",
       "      <th>0</th>\n",
       "      <td>The Hunger Games</td>\n",
       "      <td>Suzanne Collins</td>\n",
       "      <td>Young Adult</td>\n",
       "      <td>374</td>\n",
       "      <td>Winning will make you famous. Losing means cer...</td>\n",
       "      <td>9.78E+12</td>\n",
       "    </tr>\n",
       "    <tr>\n",
       "      <th>1</th>\n",
       "      <td>Harry Potter and the Order of the Phoenix</td>\n",
       "      <td>J.K. Rowling, Mary GrandPré</td>\n",
       "      <td>Fantasy</td>\n",
       "      <td>870</td>\n",
       "      <td>There is a door at the end of a silent corrido...</td>\n",
       "      <td>9.78E+12</td>\n",
       "    </tr>\n",
       "    <tr>\n",
       "      <th>2</th>\n",
       "      <td>To Kill a Mockingbird</td>\n",
       "      <td>Harper Lee</td>\n",
       "      <td>Classics</td>\n",
       "      <td>324</td>\n",
       "      <td>The unforgettable novel of a childhood in a sl...</td>\n",
       "      <td>9.78E+12</td>\n",
       "    </tr>\n",
       "    <tr>\n",
       "      <th>3</th>\n",
       "      <td>Pride and Prejudice</td>\n",
       "      <td>Jane Austen, Anna Quindlen, Mrs. Oliphant, Geo...</td>\n",
       "      <td>Classics</td>\n",
       "      <td>279</td>\n",
       "      <td>«È cosa ormai risaputa che a uno scapolo in po...</td>\n",
       "      <td>9.78E+12</td>\n",
       "    </tr>\n",
       "    <tr>\n",
       "      <th>4</th>\n",
       "      <td>Twilight</td>\n",
       "      <td>Stephenie Meyer</td>\n",
       "      <td>Young Adult</td>\n",
       "      <td>498</td>\n",
       "      <td>About three things I was absolutely positive.F...</td>\n",
       "      <td>9.78E+12</td>\n",
       "    </tr>\n",
       "    <tr>\n",
       "      <th>...</th>\n",
       "      <td>...</td>\n",
       "      <td>...</td>\n",
       "      <td>...</td>\n",
       "      <td>...</td>\n",
       "      <td>...</td>\n",
       "      <td>...</td>\n",
       "    </tr>\n",
       "    <tr>\n",
       "      <th>312</th>\n",
       "      <td>The Prince of Tides</td>\n",
       "      <td>Pat Conroy</td>\n",
       "      <td>Fiction</td>\n",
       "      <td>679</td>\n",
       "      <td>PAT CONROY has created a huge, brash thunderst...</td>\n",
       "      <td>9.78E+12</td>\n",
       "    </tr>\n",
       "    <tr>\n",
       "      <th>313</th>\n",
       "      <td>The Monster at the End of this Book</td>\n",
       "      <td>Jon Stone, Michael J. Smollin</td>\n",
       "      <td>Childrens</td>\n",
       "      <td>32</td>\n",
       "      <td>Many adults name this book as their favorite L...</td>\n",
       "      <td>9.78E+12</td>\n",
       "    </tr>\n",
       "    <tr>\n",
       "      <th>314</th>\n",
       "      <td>Dead Until Dark</td>\n",
       "      <td>Charlaine Harris</td>\n",
       "      <td>Fantasy</td>\n",
       "      <td>292</td>\n",
       "      <td>Sookie Stackhouse is just a small-time cocktai...</td>\n",
       "      <td>9.78E+12</td>\n",
       "    </tr>\n",
       "    <tr>\n",
       "      <th>315</th>\n",
       "      <td>Fried Green Tomatoes at the Whistle Stop Cafe</td>\n",
       "      <td>Fannie Flagg</td>\n",
       "      <td>Fiction</td>\n",
       "      <td>416</td>\n",
       "      <td>It's first the story of two women in the 1980s...</td>\n",
       "      <td>9.78E+12</td>\n",
       "    </tr>\n",
       "    <tr>\n",
       "      <th>316</th>\n",
       "      <td>Fifty Shades Darker</td>\n",
       "      <td>E.L. James</td>\n",
       "      <td>Romance</td>\n",
       "      <td>532</td>\n",
       "      <td>Daunted by the singular sexual tastes and dark...</td>\n",
       "      <td>9.78E+12</td>\n",
       "    </tr>\n",
       "  </tbody>\n",
       "</table>\n",
       "<p>300 rows × 6 columns</p>\n",
       "</div>"
      ],
      "text/plain": [
       "                                             Title  \\\n",
       "0                                 The Hunger Games   \n",
       "1        Harry Potter and the Order of the Phoenix   \n",
       "2                            To Kill a Mockingbird   \n",
       "3                              Pride and Prejudice   \n",
       "4                                         Twilight   \n",
       "..                                             ...   \n",
       "312                            The Prince of Tides   \n",
       "313            The Monster at the End of this Book   \n",
       "314                                Dead Until Dark   \n",
       "315  Fried Green Tomatoes at the Whistle Stop Cafe   \n",
       "316                            Fifty Shades Darker   \n",
       "\n",
       "                                                Author        Genre Pages  \\\n",
       "0                                      Suzanne Collins  Young Adult   374   \n",
       "1                          J.K. Rowling, Mary GrandPré      Fantasy   870   \n",
       "2                                           Harper Lee     Classics   324   \n",
       "3    Jane Austen, Anna Quindlen, Mrs. Oliphant, Geo...     Classics   279   \n",
       "4                                      Stephenie Meyer  Young Adult   498   \n",
       "..                                                 ...          ...   ...   \n",
       "312                                         Pat Conroy      Fiction   679   \n",
       "313                      Jon Stone, Michael J. Smollin    Childrens    32   \n",
       "314                                   Charlaine Harris      Fantasy   292   \n",
       "315                                       Fannie Flagg      Fiction   416   \n",
       "316                                         E.L. James      Romance   532   \n",
       "\n",
       "                                           Description      isbn  \n",
       "0    Winning will make you famous. Losing means cer...  9.78E+12  \n",
       "1    There is a door at the end of a silent corrido...  9.78E+12  \n",
       "2    The unforgettable novel of a childhood in a sl...  9.78E+12  \n",
       "3    «È cosa ormai risaputa che a uno scapolo in po...  9.78E+12  \n",
       "4    About three things I was absolutely positive.F...  9.78E+12  \n",
       "..                                                 ...       ...  \n",
       "312  PAT CONROY has created a huge, brash thunderst...  9.78E+12  \n",
       "313  Many adults name this book as their favorite L...  9.78E+12  \n",
       "314  Sookie Stackhouse is just a small-time cocktai...  9.78E+12  \n",
       "315  It's first the story of two women in the 1980s...  9.78E+12  \n",
       "316  Daunted by the singular sexual tastes and dark...  9.78E+12  \n",
       "\n",
       "[300 rows x 6 columns]"
      ]
     },
     "execution_count": 122,
     "metadata": {},
     "output_type": "execute_result"
    }
   ],
   "source": [
    "df"
   ]
  },
  {
   "cell_type": "code",
   "execution_count": 123,
   "id": "thrown-prayer",
   "metadata": {},
   "outputs": [],
   "source": [
    "# Connect to SQL Server\n",
    "cnx = mysql.connector.connect(user = 'root', password = 'L3m.nade1H3lix', host = 'localhost', database='book_and_flicks')"
   ]
  },
  {
   "cell_type": "code",
   "execution_count": 124,
   "id": "automotive-indiana",
   "metadata": {},
   "outputs": [],
   "source": [
    "# Add Query\n",
    "add_book = ('INSERT INTO Books(title, author, genre, page_count, description, isbn) VALUES (%s, %s, %s, %s, %s, %s)')"
   ]
  },
  {
   "cell_type": "code",
   "execution_count": null,
   "id": "valid-tongue",
   "metadata": {},
   "outputs": [],
   "source": [
    "# Insert Data to SQL Server\n",
    "for index, row in df.iterrows():\n",
    "    book = row\n",
    "    title = row[0]\n",
    "    Author = row[1]\n",
    "    Genre = row[2]\n",
    "    Pages = row[3]\n",
    "    Description = row[4]\n",
    "    ISBN = row[5]\n",
    "    \n",
    "    book_data = (title, Author, Genre, Pages, Description, ISBN)\n",
    "    cursor.execute(add_book, book_data)\n",
    "cnx.commit()\n",
    "cursor.close()\n",
    "cnx.close()"
   ]
  }
 ],
 "metadata": {
  "kernelspec": {
   "display_name": "Python 3",
   "language": "python",
   "name": "python3"
  },
  "language_info": {
   "codemirror_mode": {
    "name": "ipython",
    "version": 3
   },
   "file_extension": ".py",
   "mimetype": "text/x-python",
   "name": "python",
   "nbconvert_exporter": "python",
   "pygments_lexer": "ipython3",
   "version": "3.7.6"
  }
 },
 "nbformat": 4,
 "nbformat_minor": 5
}
